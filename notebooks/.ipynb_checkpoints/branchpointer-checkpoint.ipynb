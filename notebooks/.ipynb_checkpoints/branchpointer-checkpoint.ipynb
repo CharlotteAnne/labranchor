{
 "cells": [
  {
   "cell_type": "code",
   "execution_count": 1,
   "metadata": {
    "collapsed": false
   },
   "outputs": [
    {
     "name": "stderr",
     "output_type": "stream",
     "text": [
      "Loading required package: caret\n",
      "Loading required package: lattice\n",
      "Loading required package: ggplot2\n"
     ]
    }
   ],
   "source": [
    "library(branchpointer)"
   ]
  },
  {
   "cell_type": "code",
   "execution_count": 41,
   "metadata": {
    "collapsed": false
   },
   "outputs": [
    {
     "name": "stderr",
     "output_type": "stream",
     "text": [
      "\n",
      "Attaching package: ‘BSgenome.Hsapiens.UCSC.hg19’\n",
      "\n",
      "The following object is masked from ‘package:BSgenome.Hsapiens.UCSC.hg38’:\n",
      "\n",
      "    Hsapiens\n",
      "\n"
     ]
    }
   ],
   "source": [
    "library(BSgenome.Hsapiens.UCSC.hg19)\n",
    "genome <- BSgenome.Hsapiens.UCSC.hg19::BSgenome.Hsapiens.UCSC.hg19"
   ]
  },
  {
   "cell_type": "code",
   "execution_count": 69,
   "metadata": {
    "collapsed": false
   },
   "outputs": [
    {
     "data": {
      "text/plain": [
       "GRanges object with 6 ranges and 1 metadata column:\n",
       "      seqnames                 ranges strand |               id\n",
       "         <Rle>              <IRanges>  <Rle> |      <character>\n",
       "  [1]     chr1 [113242770, 113242840]      + | chr1_113242840_+\n",
       "  [2]     chr1 [148307793, 148307863]      - | chr1_148307792_-\n",
       "  [3]     chr1 [  1277186,   1277256]      - |   chr1_1277185_-\n",
       "  [4]     chr1 [109492544, 109492614]      - | chr1_109492543_-\n",
       "  [5]     chr1 [ 54722860,  54722930]      - |  chr1_54722859_-\n",
       "  [6]     chr1 [146046496, 146046566]      - | chr1_146046495_-\n",
       "  -------\n",
       "  seqinfo: 1 sequence from an unspecified genome; no seqlengths"
      ]
     },
     "metadata": {},
     "output_type": "display_data"
    }
   ],
   "source": [
    "queryIntron <- readQueryFile('../anno/test.tsv', queryType = \"region\")\n",
    "head(queryIntron)"
   ]
  },
  {
   "cell_type": "code",
   "execution_count": 72,
   "metadata": {
    "collapsed": false
   },
   "outputs": [],
   "source": [
    "queryIntron <- getQueryLoc(queryIntron,queryType=\"region\",\n",
    "                           exons = exons)"
   ]
  },
  {
   "cell_type": "code",
   "execution_count": 74,
   "metadata": {
    "collapsed": false
   },
   "outputs": [
    {
     "data": {
      "text/html": [
       "4207"
      ],
      "text/latex": [
       "4207"
      ],
      "text/markdown": [
       "4207"
      ],
      "text/plain": [
       "[1] 4207"
      ]
     },
     "metadata": {},
     "output_type": "display_data"
    }
   ],
   "source": [
    "length(queryIntron)"
   ]
  },
  {
   "cell_type": "code",
   "execution_count": 75,
   "metadata": {
    "collapsed": false
   },
   "outputs": [],
   "source": [
    "branchpointPredictionsIntron <- predictBranchpoints(queryIntron,\n",
    "                                                    queryType = \"region\",\n",
    "                                                    BSgenome = genome)\n",
    "                                                    #bedtoolsLocation = '/usr/local/bin/bedtools')"
   ]
  },
  {
   "cell_type": "code",
   "execution_count": 77,
   "metadata": {
    "collapsed": false
   },
   "outputs": [],
   "source": [
    "write(branchpointPredictionsIntron$branchpoint_prob, '../anno/branchpointer.score.tsv', sep = '\\t')"
   ]
  },
  {
   "cell_type": "code",
   "execution_count": 78,
   "metadata": {
    "collapsed": false
   },
   "outputs": [],
   "source": [
    "write(branchpointPredictionsIntron$test_site, '../anno/branchpointer.pos.tsv', sep = '\\t')"
   ]
  },
  {
   "cell_type": "code",
   "execution_count": null,
   "metadata": {
    "collapsed": true
   },
   "outputs": [],
   "source": []
  }
 ],
 "metadata": {
  "kernelspec": {
   "display_name": "R",
   "language": "R",
   "name": "ir"
  },
  "language_info": {
   "codemirror_mode": "r",
   "file_extension": ".r",
   "mimetype": "text/x-r-source",
   "name": "R",
   "pygments_lexer": "r",
   "version": "3.4.0"
  }
 },
 "nbformat": 4,
 "nbformat_minor": 2
}
