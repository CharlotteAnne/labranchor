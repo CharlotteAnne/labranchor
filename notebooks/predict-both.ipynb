{
 "cells": [
  {
   "cell_type": "code",
   "execution_count": 1,
   "metadata": {
    "collapsed": false
   },
   "outputs": [],
   "source": [
    "import numpy as np\n",
    "bases = ['A', 'C', 'G', 'T']\n",
    "import seaborn as sns\n",
    "import matplotlib.pyplot as plt\n",
    "from sklearn import metrics\n",
    "%matplotlib inline"
   ]
  },
  {
   "cell_type": "code",
   "execution_count": 2,
   "metadata": {
    "collapsed": false
   },
   "outputs": [],
   "source": [
    "from genome import Genome\n",
    "genome = Genome('/Users/jpaggi/Downloads/MPRA/snps/hg19.fa')"
   ]
  },
  {
   "cell_type": "code",
   "execution_count": 4,
   "metadata": {
    "collapsed": false
   },
   "outputs": [],
   "source": [
    "cons = {}\n",
    "with open('../anno/hg19.100way.phastCons.bp.bed') as fp:\n",
    "    for line in fp:\n",
    "        chrom, pos, _, score = line.strip().split()\n",
    "        if chrom not in cons: cons[chrom] = {}\n",
    "        cons[chrom][int(pos)] = float(score)"
   ]
  },
  {
   "cell_type": "code",
   "execution_count": 5,
   "metadata": {
    "collapsed": false
   },
   "outputs": [],
   "source": [
    "introns = {}\n",
    "with open('../preprocessing/introns_to_taggart.tsv') as fp:\n",
    "    for line in fp:\n",
    "        chrom, start, end, _, pos, strand, _, bp, _, info = line.split('\\t')[:10]\n",
    "        bp, start, end = int(bp), int(start), int(end)\n",
    "        \n",
    "        if strand == '+' and bp != -1: bp -= 1\n",
    "           \n",
    "        if info.split(',')[0] in ['circle', 'template_switching']:bp = -1\n",
    "        \n",
    "        three = end if strand == '+' else start  \n",
    "        key = (chrom, three, strand)\n",
    "        \n",
    "        if not 5 < abs(bp - three) < 60:\n",
    "            bp = -1\n",
    "        \n",
    "        if key not in introns: introns[key] = []\n",
    "        assert bp not in introns[key], bp\n",
    "        if (bp not in introns[key]\n",
    "            and bp != -1): introns[key] += [bp]\n",
    "            \n",
    "with open('../preprocessing/introns_to_mercer.tsv') as fp:\n",
    "    for line in fp:\n",
    "        chrom, start, end, _, pos, strand, _, bp, _, info = line.split('\\t')[:10]\n",
    "        bp, start, end = int(bp), int(start), int(end)\n",
    "        \n",
    "        three = end if strand == '+' else start  \n",
    "        key = (chrom, three, strand)\n",
    "        \n",
    "        if not 5 < abs(bp - three) < 60:\n",
    "            bp = -1\n",
    "        \n",
    "        if key not in introns: introns[key] = []\n",
    "        #assert bp not in introns[key], bp # Here\n",
    "        if (bp not in introns[key]\n",
    "            and bp != -1): introns[key] += [bp]"
   ]
  },
  {
   "cell_type": "code",
   "execution_count": 6,
   "metadata": {
    "collapsed": false
   },
   "outputs": [
    {
     "name": "stdout",
     "output_type": "stream",
     "text": [
      "48194\n",
      "158098\n"
     ]
    }
   ],
   "source": [
    "known   = {key: value for key, value in introns.items() if value}\n",
    "missing = {key: value for key, value in introns.items() if not value}\n",
    "print len(known)\n",
    "print len(missing)"
   ]
  },
  {
   "cell_type": "code",
   "execution_count": 7,
   "metadata": {
    "collapsed": false
   },
   "outputs": [
    {
     "name": "stdout",
     "output_type": "stream",
     "text": [
      "(48194, 70, 5) (48194, 70) 48194\n"
     ]
    }
   ],
   "source": [
    "L = 70\n",
    "\n",
    "def onehot(seq):\n",
    "    X = np.zeros((len(seq), len(bases)))\n",
    "    for i, char in enumerate(seq):\n",
    "        X[i, bases.index(char)] = 1\n",
    "    return X\n",
    "\n",
    "X, y, chroms = [], [], []\n",
    "for intron, bps in known.items():\n",
    "    chrom, three, strand = intron\n",
    "    if strand == '+':\n",
    "        begin, stop = three - L, three\n",
    "    else:\n",
    "        begin, stop = three, three + L\n",
    "    \n",
    "    # Get features\n",
    "    seq = genome.get_seq(chrom, begin, stop, strand)\n",
    "    if 'N' in seq: seq = seq.replace('N', 'A')\n",
    "    \n",
    "    c = np.array([cons[chrom][pos] if pos in cons[chrom] else 0\n",
    "                  for pos in range(begin, stop)]).reshape(-1, 1)\n",
    "    if strand == '-': c = c[::-1]\n",
    "    \n",
    "    X += [np.hstack([onehot(seq), c]).reshape(1, 70, 5)]\n",
    "\n",
    "    # Make target\n",
    "    _y = np.zeros((stop - begin,))\n",
    "    for bp in bps:\n",
    "        if strand == '+':\n",
    "            bp = L + bp - three\n",
    "        else:\n",
    "            bp = L - bp + three - 1\n",
    "        _y[bp] = 1\n",
    "    y += [_y]\n",
    "    \n",
    "    chroms += [chrom]\n",
    "\n",
    "X, y = np.vstack(X), np.vstack(y)\n",
    "print X.shape, y.shape, len(chroms)"
   ]
  },
  {
   "cell_type": "code",
   "execution_count": 8,
   "metadata": {
    "collapsed": false
   },
   "outputs": [
    {
     "name": "stdout",
     "output_type": "stream",
     "text": [
      "5461 9542 33191\n",
      "(33191, 70, 5) (9542, 70, 5) (5461, 70, 5)\n",
      "(33191, 70) (9542, 70) (5461, 70)\n"
     ]
    }
   ],
   "source": [
    "test = np.array(map(lambda x: x == 'chr1', chroms))\n",
    "valid = np.array(map(lambda x: x in ('chr2', 'chr3', 'chr4', 'chr5'),\n",
    "                     chroms))\n",
    "train = np.array([not (t or v) for t, v in zip(test, valid)])\n",
    "print sum(test),  sum(valid), sum(train)\n",
    "\n",
    "X_train, X_valid, X_test = X[train], X[valid], X[test]\n",
    "y_train, y_valid, y_test = y[train], y[valid], y[test]\n",
    "print X_train.shape, X_valid.shape, X_test.shape\n",
    "print y_train.shape, y_valid.shape, y_test.shape"
   ]
  },
  {
   "cell_type": "code",
   "execution_count": 9,
   "metadata": {
    "collapsed": true
   },
   "outputs": [],
   "source": [
    "def matching(preds, true):\n",
    "    total, match = 0, 0\n",
    "    for p, t in zip(preds, true):\n",
    "        if np.argmax(p) in np.nonzero(t)[0]:\n",
    "            match += 1\n",
    "        total += 1\n",
    "    return match, total\n",
    "\n",
    "def plot_examples(preds, true, k = 10):\n",
    "    for p, t in zip(preds[:k], true[:k]):\n",
    "        plt.plot(t)\n",
    "        plt.plot(p)\n",
    "        plt.show()\n",
    "        \n",
    "def shift(preds, y):\n",
    "    for offset in range(-10, 10):\n",
    "        total, match = 0, 0\n",
    "        for p, t in zip(preds, y):\n",
    "            if np.argmax(p)+offset in np.nonzero(t)[0]:\n",
    "                match += 1\n",
    "            total += 1\n",
    "        print offset, match, total\n",
    "\n",
    "def roc(X, y, model):\n",
    "    truth = y[:, 15:45].flatten()\n",
    "    \n",
    "    scores = model.predict(X)[:, 15:45].flatten()\n",
    "    fpr, tpr, thresholds = metrics.roc_curve(truth, scores, pos_label=1)\n",
    "    auc = metrics.roc_auc_score(truth, scores)\n",
    "    plt.plot(fpr, tpr, label = \"LSTM auc = {}\".format(auc))\n",
    "    \n",
    "    scores = pwm_pred(X, pwm)[:, 15:45].flatten()\n",
    "    fpr, tpr, thresholds = metrics.roc_curve(truth, scores, pos_label=1)\n",
    "    auc = metrics.roc_auc_score(truth, scores)\n",
    "    plt.plot(fpr, tpr, label = \"PWM auc = {}\".format(auc))\n",
    "    \n",
    "    scores = dist_pred(X, dists)[:, 15:45].flatten()\n",
    "    fpr, tpr, thresholds = metrics.roc_curve(truth, scores, pos_label=1)\n",
    "    auc = metrics.roc_auc_score(truth, scores)\n",
    "    plt.plot(fpr, tpr, label = \"Dist auc = {}\".format(auc))\n",
    "    \n",
    "    plt.legend(loc = 'best')\n",
    "    plt.show()"
   ]
  },
  {
   "cell_type": "markdown",
   "metadata": {},
   "source": [
    "# Conservation Meta"
   ]
  },
  {
   "cell_type": "code",
   "execution_count": 10,
   "metadata": {
    "collapsed": false
   },
   "outputs": [
    {
     "data": {
      "image/png": "[encoded data removed]",
      "text/plain": [
       "<matplotlib.figure.Figure at 0x1e1da2910>"
      ]
     },
     "metadata": {},
     "output_type": "display_data"
    }
   ],
   "source": [
    "K = 10\n",
    "counts = np.zeros((2*K+1,))\n",
    "total = 0\n",
    "for target, seq in zip(y_train, X_train):\n",
    "    for bp in np.nonzero(target)[0]:\n",
    "        if 0 > bp-K or bp+K+1 > seq.shape[0]: continue\n",
    "        counts = counts + seq[bp-K: bp+K+1, 4]\n",
    "        total += 1\n",
    "plt.plot(counts / total)\n",
    "plt.show()"
   ]
  },
  {
   "cell_type": "markdown",
   "metadata": {},
   "source": [
    "# Dist Model"
   ]
  },
  {
   "cell_type": "code",
   "execution_count": 11,
   "metadata": {
    "collapsed": false
   },
   "outputs": [
    {
     "data": {
      "image/png": "[encoded data removed]",
      "text/plain": [
       "<matplotlib.figure.Figure at 0x1cc89ef10>"
      ]
     },
     "metadata": {},
     "output_type": "display_data"
    }
   ],
   "source": [
    "counts = np.zeros((L,))\n",
    "total = 0\n",
    "for target, seq in zip(y_train, X_train):\n",
    "    for bp in np.nonzero(target)[0]:\n",
    "        counts[bp] += 1\n",
    "        total += 1\n",
    "dists = counts / total\n",
    "plt.plot(dists)\n",
    "plt.show()"
   ]
  },
  {
   "cell_type": "code",
   "execution_count": 12,
   "metadata": {
    "collapsed": false
   },
   "outputs": [
    {
     "name": "stdout",
     "output_type": "stream",
     "text": [
      "(613, 5461)\n",
      "(4072, 33191)\n"
     ]
    }
   ],
   "source": [
    "def dist_pred(X, dists):\n",
    "    return np.vstack([dists.T] * X.shape[0])\n",
    "\n",
    "print matching(dist_pred(X_test, dists), y_test)\n",
    "print matching(dist_pred(X_train, dists), y_train)"
   ]
  },
  {
   "cell_type": "markdown",
   "metadata": {},
   "source": [
    "# PWM model"
   ]
  },
  {
   "cell_type": "code",
   "execution_count": 13,
   "metadata": {
    "collapsed": false
   },
   "outputs": [
    {
     "name": "stdout",
     "output_type": "stream",
     "text": [
      "[[  8612.  21754.   9145.  17603.]\n",
      " [  7219.  10129.   7240.  32526.]\n",
      " [ 11314.  18449.  13608.  13743.]\n",
      " [ 39074.   8466.   3423.   6151.]\n",
      " [ 10243.  20680.   9943.  16248.]\n",
      " [ 12440.  16731.   8333.  19610.]\n",
      " [ 10938.  16033.  12007.  18136.]]\n",
      "[[ 0.15078615  0.38088735  0.16011836  0.30820815]\n",
      " [ 0.12639633  0.17734706  0.12676402  0.56949259]\n",
      " [ 0.19809504  0.32302063  0.23826032  0.24062402]\n",
      " [ 0.68414049  0.14822986  0.05993277  0.10769689]\n",
      " [ 0.17934307  0.36208285  0.17409042  0.28448366]\n",
      " [ 0.21780999  0.29294043  0.14590118  0.34334839]\n",
      " [ 0.19151171  0.28071926  0.21022867  0.31754036]]\n"
     ]
    }
   ],
   "source": [
    "K = 3\n",
    "\n",
    "counts = np.zeros((2*K+1, 4))\n",
    "total = 0\n",
    "for target, seq in zip(y_train, X_train):\n",
    "    for bp in np.nonzero(target)[0]:\n",
    "        if 0 > bp-K or bp+K+1 > seq.shape[0]: continue\n",
    "        counts = counts + seq[bp-K: bp+K+1, :4]\n",
    "        total += 1\n",
    "print counts\n",
    "pwm = counts / total\n",
    "print pwm"
   ]
  },
  {
   "cell_type": "code",
   "execution_count": 14,
   "metadata": {
    "collapsed": false
   },
   "outputs": [
    {
     "name": "stdout",
     "output_type": "stream",
     "text": [
      "(1665, 5461)\n",
      "(10640, 33191)\n"
     ]
    }
   ],
   "source": [
    "def pwm_pred(X, pwm):\n",
    "    scores = []\n",
    "    for seq in X:\n",
    "        s = [0] * K\n",
    "        for i in range(seq.shape[0] - K*2):\n",
    "            s += [np.sum(seq[i:i+2*K+1, :4] * pwm)]\n",
    "        s += [0] * K\n",
    "        scores += [np.array(s)]\n",
    "    return np.vstack(scores)\n",
    "\n",
    "print matching(pwm_pred(X_test, pwm), y_test)\n",
    "print matching(pwm_pred(X_train, pwm), y_train)"
   ]
  },
  {
   "cell_type": "markdown",
   "metadata": {},
   "source": [
    "# Model trainer"
   ]
  },
  {
   "cell_type": "code",
   "execution_count": 15,
   "metadata": {
    "collapsed": false
   },
   "outputs": [],
   "source": [
    "class ModelTrainer:\n",
    "    def __init__(self, model):\n",
    "        self.model = model\n",
    "        self.train_auc = []\n",
    "        self.train_match = []\n",
    "        self.valid_auc = []\n",
    "        self.valid_match = []\n",
    "        \n",
    "    def train(self, X_train, X_valid,\n",
    "              y_train, y_valid, PATIENCE = 10, EPOCHS = 1000):\n",
    "        print model.summary()\n",
    "        for i in range(EPOCHS):\n",
    "            model.fit(X_train, y_train, epochs = 1, verbose = 0)\n",
    "            self._evaluate(X_train, X_valid, y_train, y_valid)\n",
    "            if (i > PATIENCE\n",
    "                and max(self.valid_match[-PATIENCE:])\n",
    "                < max(self.valid_match)):\n",
    "                break\n",
    "            print i, self.valid_match[-1], self.train_match[-1]\n",
    "        self._plot_scores()\n",
    "        print max(self.valid_match), max(self.valid_auc)\n",
    "    \n",
    "    def predict(X):\n",
    "        return self.model.predict(X)\n",
    "                \n",
    "    def _evaluate(self, X_train, X_valid, y_train, y_valid):\n",
    "        valid_preds = self.model.predict_proba(X_valid, verbose=0)\n",
    "        train_preds = self.model.predict_proba(X_train, verbose=0)\n",
    "        self.valid_match += [matching(valid_preds, y_valid)[0]\n",
    "                             / float(y_valid.shape[0])]\n",
    "        self.train_match += [matching(train_preds, y_train)[0]\n",
    "                             / float(y_train.shape[0])]\n",
    "        self.valid_auc += [metrics.roc_auc_score(y_valid.flatten(),\n",
    "                                                 valid_preds.flatten())]\n",
    "        self.train_auc += [metrics.roc_auc_score(y_train.flatten(),\n",
    "                                                 train_preds.flatten())]\n",
    "    \n",
    "    def _plot_scores(self):\n",
    "        plt.plot(self.valid_match)\n",
    "        plt.plot(self.train_match)\n",
    "        plt.ylabel('Match')\n",
    "        plt.xlabel('epoch')\n",
    "        plt.show()\n",
    "        \n",
    "        plt.plot(self.valid_auc)\n",
    "        plt.plot(self.train_auc)\n",
    "        plt.ylabel('auROC')\n",
    "        plt.xlabel('epoch')\n",
    "        plt.show()"
   ]
  },
  {
   "cell_type": "code",
   "execution_count": 16,
   "metadata": {
    "collapsed": false
   },
   "outputs": [
    {
     "name": "stderr",
     "output_type": "stream",
     "text": [
      "Using TensorFlow backend.\n"
     ]
    }
   ],
   "source": [
    "from keras.models import Sequential\n",
    "from keras.layers import Dense, Reshape, LSTM\n",
    "from keras.layers.convolutional import Conv2D\n",
    "from keras import backend as k\n",
    "from keras import regularizers\n",
    "from keras import optimizers\n",
    "from keras.layers.wrappers import Bidirectional, TimeDistributed"
   ]
  },
  {
   "cell_type": "markdown",
   "metadata": {},
   "source": [
    "# Conv -> LSTM"
   ]
  },
  {
   "cell_type": "code",
   "execution_count": 17,
   "metadata": {
    "collapsed": false
   },
   "outputs": [
    {
     "name": "stdout",
     "output_type": "stream",
     "text": [
      "_________________________________________________________________\n",
      "Layer (type)                 Output Shape              Param #   \n",
      "=================================================================\n",
      "bidirectional_1 (Bidirection (None, 70, 64)            9472      \n",
      "_________________________________________________________________\n",
      "bidirectional_2 (Bidirection (None, 70, 64)            24832     \n",
      "_________________________________________________________________\n",
      "time_distributed_1 (TimeDist (None, 70, 1)             65        \n",
      "=================================================================\n",
      "Total params: 34,369.0\n",
      "Trainable params: 34,369\n",
      "Non-trainable params: 0.0\n",
      "_________________________________________________________________\n",
      "None\n",
      "0 0.506811989101 0.553915217981\n",
      "1 0.535003143995 0.589677924739\n",
      "2 0.586040662335 0.626796420716\n",
      "3 0.5930622511 0.637974149619\n",
      "4 0.604380632991 0.641017143201\n",
      "5 0.605428631314 0.64650055738\n",
      "6 0.605323831482 0.649965352053\n",
      "7 0.615489415217 0.656804555452\n",
      "8 0.617061412702 0.656925070049\n",
      "9 0.614546216726 0.655599409478\n",
      "10 0.622615803815 0.663794402097\n",
      "11 0.62376860197 0.663402729656\n",
      "12 0.636658981346 0.668795757886\n",
      "13 0.636030182352 0.671567593625\n",
      "14 0.632676587717 0.672079780663\n",
      "15 0.635820582687 0.673646470429\n",
      "16 0.634038985538 0.676237534271\n",
      "17 0.643156570949 0.67629779157\n",
      "18 0.641165374135 0.67946129975\n",
      "19 0.643051771117 0.680154258685\n",
      "20 0.644414168937 0.678949112711\n",
      "21 0.644938168099 0.683347895514\n",
      "22 0.646195766087 0.682474164683\n",
      "23 0.643470970446 0.676599078063\n",
      "24 0.647558163907 0.684312012292\n",
      "25 0.643575770279 0.683106866319\n",
      "26 0.643994969608 0.684974842578\n",
      "27 0.643890169776 0.686270374499\n",
      "28 0.651435757703 0.690156970263\n",
      "29 0.651016558374 0.689012081588\n",
      "30 0.652483756026 0.688590280498\n",
      "31 0.654055753511 0.687505649122\n",
      "32 0.646090966254 0.689042210238\n",
      "33 0.65311255502 0.691392244886\n",
      "34 0.645462167261 0.68575818746\n",
      "35 0.656466149654 0.690548642704\n",
      "36 0.649758960386 0.69301919195\n",
      "37 0.653217354852 0.693109577898\n",
      "38 0.646614965416 0.68575818746\n",
      "39 0.65133095787 0.692055075171\n",
      "40 0.652588555858 0.694495495767\n",
      "41 0.654894152169 0.694706396312\n",
      "42 0.650911758541 0.692958934651\n",
      "43 0.650492559212 0.694736524962\n",
      "44 0.654894152169 0.695791027688\n"
     ]
    },
    {
     "data": {
      "image/png": "[encoded data removed]",
      "text/plain": [
       "<matplotlib.figure.Figure at 0x215616fd0>"
      ]
     },
     "metadata": {},
     "output_type": "display_data"
    },
    {
     "data": {
      "image/png": "[encoded data removed]",
      "text/plain": [
       "<matplotlib.figure.Figure at 0x217e1a710>"
      ]
     },
     "metadata": {},
     "output_type": "display_data"
    },
    {
     "name": "stdout",
     "output_type": "stream",
     "text": [
      "0.656466149654 0.958750854932\n"
     ]
    }
   ],
   "source": [
    "k.set_learning_phase(1)\n",
    "model = Sequential()\n",
    "\n",
    "model.add(Bidirectional(LSTM(32, return_sequences = True,\n",
    "                             dropout = 0.15, recurrent_dropout = 0.05),\n",
    "                            input_shape = (L, 4)))\n",
    "model.add(Bidirectional(LSTM(32, return_sequences = True,\n",
    "                             dropout = 0.15, recurrent_dropout = 0.05)))\n",
    "\n",
    "model.add(TimeDistributed(Dense(1, activation = 'sigmoid')))\n",
    "model.compile(loss='binary_crossentropy',\n",
    "              optimizer=optimizers.Adam(lr=0.001,\n",
    "                                        beta_1=0.9,\n",
    "                                        beta_2=0.999,\n",
    "                                        epsilon=1e-08,\n",
    "                                        decay=0.0))\n",
    "\n",
    "ModelTrainer(model).train(X_train[:, :, :4], X_valid[:, :, :4],\n",
    "                          y_train.reshape(-1, 70, 1), y_valid.reshape(-1, 70, 1))"
   ]
  },
  {
   "cell_type": "code",
   "execution_count": 18,
   "metadata": {
    "collapsed": true
   },
   "outputs": [],
   "source": [
    "model.save('../models/taggart_mercer_2layer.h5')"
   ]
  },
  {
   "cell_type": "code",
   "execution_count": 26,
   "metadata": {
    "collapsed": false
   },
   "outputs": [
    {
     "name": "stdout",
     "output_type": "stream",
     "text": [
      "(5461, 70, 4) (5461, 70, 1)\n",
      "[[ 0.  0.  1.  0.  0.]\n",
      " [ 1.  0.  0.  0.  0.]\n",
      " [ 1.  0.  0.  0.  0.]\n",
      " [ 0.  0.  1.  0.  0.]\n",
      " [ 0.  0.  0.  1.  0.]\n",
      " [ 1.  0.  0.  0.  0.]\n",
      " [ 0.  0.  1.  0.  0.]\n",
      " [ 0.  1.  0.  0.  0.]\n",
      " [ 0.  0.  0.  1.  0.]\n",
      " [ 0.  0.  0.  1.  0.]\n",
      " [ 0.  0.  1.  0.  0.]\n",
      " [ 0.  0.  1.  0.  0.]\n",
      " [ 0.  0.  1.  0.  0.]\n",
      " [ 0.  1.  0.  0.  0.]\n",
      " [ 1.  0.  0.  0.  0.]\n",
      " [ 0.  0.  1.  0.  0.]\n",
      " [ 0.  0.  1.  0.  0.]\n",
      " [ 0.  0.  1.  0.  0.]\n",
      " [ 0.  0.  0.  1.  0.]\n",
      " [ 0.  1.  0.  0.  0.]\n",
      " [ 0.  1.  0.  0.  0.]\n",
      " [ 0.  1.  0.  0.  0.]\n",
      " [ 0.  1.  0.  0.  0.]\n",
      " [ 1.  0.  0.  0.  0.]\n",
      " [ 0.  0.  1.  0.  0.]\n",
      " [ 0.  0.  0.  1.  0.]\n",
      " [ 0.  1.  0.  0.  0.]\n",
      " [ 1.  0.  0.  0.  0.]\n",
      " [ 0.  1.  0.  0.  0.]\n",
      " [ 1.  0.  0.  0.  0.]\n",
      " [ 0.  0.  1.  0.  0.]\n",
      " [ 0.  0.  0.  1.  0.]\n",
      " [ 0.  0.  1.  0.  0.]\n",
      " [ 0.  0.  0.  1.  0.]\n",
      " [ 0.  0.  1.  0.  0.]\n",
      " [ 1.  0.  0.  0.  0.]\n",
      " [ 0.  0.  1.  0.  0.]\n",
      " [ 0.  0.  0.  1.  0.]\n",
      " [ 0.  1.  0.  0.  0.]\n",
      " [ 0.  1.  0.  0.  0.]\n",
      " [ 0.  0.  0.  1.  0.]\n",
      " [ 1.  0.  0.  0.  0.]\n",
      " [ 0.  1.  0.  0.  0.]\n",
      " [ 1.  0.  0.  0.  0.]\n",
      " [ 1.  0.  0.  0.  0.]\n",
      " [ 0.  1.  0.  0.  0.]\n",
      " [ 0.  0.  0.  1.  0.]\n",
      " [ 0.  0.  0.  1.  0.]\n",
      " [ 0.  0.  0.  1.  0.]\n",
      " [ 0.  0.  1.  0.  0.]\n",
      " [ 1.  0.  0.  0.  0.]\n",
      " [ 0.  1.  0.  0.  0.]\n",
      " [ 1.  0.  0.  0.  0.]\n",
      " [ 0.  0.  0.  1.  0.]\n",
      " [ 0.  1.  0.  0.  0.]\n",
      " [ 0.  1.  0.  0.  0.]\n",
      " [ 1.  0.  0.  0.  0.]\n",
      " [ 0.  1.  0.  0.  0.]\n",
      " [ 0.  0.  1.  0.  0.]\n",
      " [ 0.  1.  0.  0.  0.]\n",
      " [ 0.  0.  0.  1.  0.]\n",
      " [ 0.  0.  1.  0.  0.]\n",
      " [ 0.  0.  0.  1.  0.]\n",
      " [ 0.  1.  0.  0.  0.]\n",
      " [ 0.  1.  0.  0.  0.]\n",
      " [ 0.  1.  0.  0.  0.]\n",
      " [ 0.  1.  0.  0.  0.]\n",
      " [ 0.  1.  0.  0.  0.]\n",
      " [ 1.  0.  0.  0.  0.]\n",
      " [ 0.  0.  1.  0.  1.]]\n"
     ]
    }
   ],
   "source": [
    "def appendX(X):\n",
    "    aug = np.zeros((X.shape[0], L, 1))\n",
    "    for i in xrange(X.shape[0]):\n",
    "        aug[i, L-1, 0] = 1\n",
    "    return np.concatenate([X, aug], axis = 2)\n",
    "\n",
    "print appendX(X_test[:, :, :4])[1]"
   ]
  },
  {
   "cell_type": "code",
   "execution_count": null,
   "metadata": {
    "collapsed": true
   },
   "outputs": [],
   "source": []
  }
 ],
 "metadata": {
  "anaconda-cloud": {},
  "kernelspec": {
   "display_name": "Python [conda root]",
   "language": "python",
   "name": "conda-root-py"
  },
  "language_info": {
   "codemirror_mode": {
    "name": "ipython",
    "version": 2
   },
   "file_extension": ".py",
   "mimetype": "text/x-python",
   "name": "python",
   "nbconvert_exporter": "python",
   "pygments_lexer": "ipython2",
   "version": "2.7.13"
  }
 },
 "nbformat": 4,
 "nbformat_minor": 2
}
